{
 "cells": [
  {
   "cell_type": "code",
   "execution_count": 5,
   "metadata": {
    "collapsed": true
   },
   "outputs": [],
   "source": [
    "import pandas as pd\n",
    "import numpy as np\n",
    "from matplotlib import pyplot as plt\n",
    "from collections import Counter"
   ]
  },
  {
   "cell_type": "code",
   "execution_count": 6,
   "metadata": {
    "collapsed": true
   },
   "outputs": [],
   "source": [
    "data=pd.read_csv('PCHiC_peak_matrix_cutoff5.txt',sep='\\t')"
   ]
  },
  {
   "cell_type": "code",
   "execution_count": 7,
   "metadata": {},
   "outputs": [
    {
     "data": {
      "text/plain": [
       "4566"
      ]
     },
     "execution_count": 7,
     "metadata": {},
     "output_type": "execute_result"
    }
   ],
   "source": [
    "np.sum(np.array(dict(Counter(data['baitName'])).values()) > 50)"
   ]
  },
  {
   "cell_type": "code",
   "execution_count": 8,
   "metadata": {
    "collapsed": true
   },
   "outputs": [],
   "source": [
    "#### Features on the other regions\n",
    "\n",
    "Threshold = 150\n",
    "\n",
    "\n",
    "for df_slice in data.groupby('baitName'):\n",
    "    if (len(df_slice[1])>Threshold) and (df_slice[0]!='nan'):\n",
    "        df_save = df_slice[1][df_slice[1]['tCD4']>0]\n",
    "        df_save = df_save.copy()\n",
    "        df_save['baitChr']=['chr%s'%t for t in np.array(df_save['baitChr'])]\n",
    "        #df_save[['baitChr','oeStart','oeEnd','tCD4']].to_csv('Least50/%s_contacts.bed'%df_slice[0].replace('.','').replace(';','_'),sep='\\t',index=False,header=False)"
   ]
  },
  {
   "cell_type": "code",
   "execution_count": 7,
   "metadata": {
    "collapsed": true
   },
   "outputs": [],
   "source": [
    "#### Features between the region and the gene promoter\n",
    "\n",
    "Threshold = 50\n",
    "\n",
    "\n",
    "for df_slice in data.groupby('baitName'):\n",
    "    if (len(df_slice[1])>Threshold) and (df_slice[0]!='nan'):\n",
    "        df_save = df_slice[1][df_slice[1]['tCD4']>0]\n",
    "        df_save = df_save.copy()\n",
    "        df_save['baitChr']=['chr%s'%t for t in np.array(df_save['baitChr'])]\n",
    "        #df_save[['baitChr','oeStart','oeEnd','tCD4']].to_csv('Least50/%s_contacts.bed'%df_slice[0].replace('.','').replace(';','_'),sep='\\t',index=False,header=False)"
   ]
  }
 ],
 "metadata": {
  "kernelspec": {
   "display_name": "Python 2",
   "language": "python",
   "name": "python2"
  },
  "language_info": {
   "codemirror_mode": {
    "name": "ipython",
    "version": 2
   },
   "file_extension": ".py",
   "mimetype": "text/x-python",
   "name": "python",
   "nbconvert_exporter": "python",
   "pygments_lexer": "ipython2",
   "version": "2.7.12"
  }
 },
 "nbformat": 4,
 "nbformat_minor": 1
}
