{
 "cells": [
  {
   "cell_type": "code",
   "execution_count": 1,
   "metadata": {},
   "outputs": [
    {
     "name": "stderr",
     "output_type": "stream",
     "text": [
      "INFO:pystan:COMPILING THE C++ CODE FOR MODEL anon_model_7af71fe73cad6b7d51a4ce15383db4c6 NOW.\n"
     ]
    },
    {
     "name": "stdout",
     "output_type": "stream",
     "text": [
      "Inference for Stan model: anon_model_7af71fe73cad6b7d51a4ce15383db4c6.\n",
      "4 chains, each with iter=1000; warmup=500; thin=1; \n",
      "post-warmup draws per chain=500, total post-warmup draws=2000.\n",
      "\n",
      "           mean se_mean     sd   2.5%    25%    50%    75%  97.5%  n_eff   Rhat\n",
      "mu         8.13    0.21   5.38  -1.83   4.73   8.03  11.43   18.3  629.0   1.01\n",
      "tau        6.94    0.29    6.5   0.25   2.48    5.3   9.65  22.14  515.0    1.0\n",
      "eta[0]     0.37    0.02   0.91  -1.44  -0.23   0.39   0.97   2.18 1695.0    1.0\n",
      "eta[1]    -0.03    0.02    0.9  -1.86  -0.62-9.4e-3   0.55   1.75 1804.0    1.0\n",
      "eta[2]    -0.22    0.02   0.93  -2.03  -0.83  -0.22   0.34   1.71 2000.0    1.0\n",
      "eta[3]  -7.9e-3    0.02   0.89  -1.74  -0.59  -0.04   0.52   1.82 2000.0    1.0\n",
      "eta[4]    -0.37    0.02   0.87  -2.05  -0.96  -0.36    0.2    1.4 2000.0    1.0\n",
      "eta[5]    -0.19    0.02   0.86  -1.86  -0.77   -0.2   0.35   1.49 1396.0    1.0\n",
      "eta[6]     0.33    0.02   0.88  -1.49  -0.26   0.36   0.94   1.99 1576.0    1.0\n",
      "eta[7]     0.04    0.02   0.91  -1.75  -0.58   0.02   0.65   1.76 2000.0    1.0\n",
      "theta[0]  11.72    0.28   8.31  -1.41   6.23  10.36  15.73  32.61  907.0    1.0\n",
      "theta[1]   7.96    0.14   6.45  -5.24    3.9   7.91  11.93  21.03 2000.0    1.0\n",
      "theta[2]   6.05     0.2   7.79 -10.54   1.86   6.54  10.64  20.88 1555.0    1.0\n",
      "theta[3]   7.84    0.15   6.74  -5.82   3.81   7.68  11.83  22.01 2000.0    1.0\n",
      "theta[4]   4.96    0.15   6.56  -9.28   1.11    5.4   9.35  16.44 2000.0    1.0\n",
      "theta[5]   6.39    0.15   6.62  -8.13   2.43   6.73  10.71  19.21 2000.0    1.0\n",
      "theta[6]  11.01    0.22    7.1  -1.06   6.18  10.13  15.16  27.27 1014.0    1.0\n",
      "theta[7]   8.81    0.23   8.23  -6.17   4.07   8.25  12.77  28.37 1240.0    1.0\n",
      "lp__       -4.8    0.11    2.7 -10.74  -6.46  -4.48  -2.97  -0.11  555.0    1.0\n",
      "\n",
      "Samples were drawn using NUTS at Mon Aug  7 22:17:22 2017.\n",
      "For each parameter, n_eff is a crude measure of effective sample size,\n",
      "and Rhat is the potential scale reduction factor on split chains (at \n",
      "convergence, Rhat=1).\n"
     ]
    }
   ],
   "source": [
    "import pystan\n",
    "import numpy as np\n",
    "import matplotlib.pyplot as plt\n",
    "\n",
    "schools_code = \"\"\"\n",
    "data {\n",
    "    int<lower=0> J; // number of schools\n",
    "    real y[J]; // estimated treatment effects\n",
    "    real<lower=0> sigma[J]; // s.e. of effect estimates\n",
    "}\n",
    "parameters {\n",
    "    real mu;\n",
    "    real<lower=0> tau;\n",
    "    real eta[J];\n",
    "}\n",
    "transformed parameters {\n",
    "    real theta[J];\n",
    "    for (j in 1:J)\n",
    "        theta[j] <- mu + tau * eta[j];\n",
    "}\n",
    "model {\n",
    "    eta ~ normal(0, 1);\n",
    "    y ~ normal(theta, sigma);\n",
    "}\n",
    "\"\"\"\n",
    "\n",
    "schools_dat = {'J': 8,\n",
    "               'y': [28,  8, -3,  7, -1,  1, 18, 12],\n",
    "               'sigma': [15, 10, 16, 11,  9, 11, 10, 18]}\n",
    "\n",
    "fit = pystan.stan(model_code=schools_code, data=schools_dat,\n",
    "                  iter=1000, chains=4)\n",
    "\n",
    "print(fit)\n",
    "\n",
    "eta = fit.extract(permuted=True)['eta']\n",
    "np.mean(eta, axis=0)\n",
    "\n",
    "# if matplotlib is installed (optional, not required), a visual summary and\n",
    "# traceplot are available\n",
    "fit.plot()\n",
    "plt.show()"
   ]
  },
  {
   "cell_type": "code",
   "execution_count": 2,
   "metadata": {},
   "outputs": [
    {
     "data": {
      "text/plain": [
       "{'J': 8,\n",
       " 'sigma': [15, 10, 16, 11, 9, 11, 10, 18],\n",
       " 'y': [28, 8, -3, 7, -1, 1, 18, 12]}"
      ]
     },
     "execution_count": 2,
     "metadata": {},
     "output_type": "execute_result"
    }
   ],
   "source": [
    "schools_dat"
   ]
  }
 ],
 "metadata": {
  "kernelspec": {
   "display_name": "Python 2",
   "language": "python",
   "name": "python2"
  },
  "language_info": {
   "codemirror_mode": {
    "name": "ipython",
    "version": 2
   },
   "file_extension": ".py",
   "mimetype": "text/x-python",
   "name": "python",
   "nbconvert_exporter": "python",
   "pygments_lexer": "ipython2",
   "version": "2.7.12"
  }
 },
 "nbformat": 4,
 "nbformat_minor": 2
}
