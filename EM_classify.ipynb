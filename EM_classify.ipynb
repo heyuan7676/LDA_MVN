{
 "cells": [
  {
   "cell_type": "code",
   "execution_count": 1,
   "metadata": {
    "collapsed": true
   },
   "outputs": [],
   "source": [
    "from hmmlearn import hmm\n",
    "import pandas as pd\n",
    "import numpy as np\n",
    "import warnings\n",
    "import os\n",
    "from collections import Counter\n",
    "\n",
    "\n",
    "from sklearn.mixture import BayesianGaussianMixture\n",
    "\n",
    "\n",
    "import matplotlib as mpl\n",
    "from matplotlib import pyplot as plt\n",
    "\n",
    "\n",
    "from matplotlib import pyplot as plt\n",
    "from scipy.cluster.hierarchy import dendrogram, linkage\n",
    "import numpy as np\n",
    "\n",
    "from sklearn.decomposition import PCA\n",
    "from sklearn.manifold import TSNE"
   ]
  },
  {
   "cell_type": "code",
   "execution_count": 2,
   "metadata": {
    "collapsed": true
   },
   "outputs": [],
   "source": [
    "##https://github.com/ShawnLYU/Quantile_Normalize/blob/master/quantile_norm.py\n",
    "\n",
    "def quantileNormalize(df_input):\n",
    "    df = df_input.copy()\n",
    "    #compute rank\n",
    "    dic = {}\n",
    "    for col in df:\n",
    "        dic.update({col : sorted(df[col])})\n",
    "    sorted_df = pd.DataFrame(dic)\n",
    "    rank = sorted_df.mean(axis = 1).tolist()\n",
    "    #sort\n",
    "    for col in df:\n",
    "        t = np.searchsorted(np.sort(df[col]), df[col])\n",
    "        df[col] = [rank[i] for i in t]\n",
    "    return df\n",
    "\n",
    "\n",
    "\n",
    "\n",
    "\n",
    "files = [f for f in os.listdir('features')  if 'matrix.bed' in f]\n",
    "\n",
    "samples = []\n",
    "for f in files:\n",
    "    fn = open('features/%s' % f,'r')\n",
    "    fn.readline()\n",
    "    for line in fn:\n",
    "        samples.append([f.replace('_matrix.bed','')] + line.rstrip().split('\\t')[1:])\n",
    "    fn.close()\n",
    "    \n",
    "    \n",
    "    \n",
    "    \n",
    "    \n",
    "sample_df = pd.DataFrame(samples)\n",
    "sample_df.index = sample_df[0]\n",
    "del sample_df[0]\n",
    "\n",
    "fn = open('features/%s' % f,'r')\n",
    "sample_df.columns = np.array(fn.readline().rstrip().split('\\t')[1:])\n",
    "fn.close()\n",
    "\n",
    "sample_df = sample_df.astype('float')\n",
    "sample_df.to_csv('Features.csv',sep='\\t')"
   ]
  },
  {
   "cell_type": "code",
   "execution_count": 3,
   "metadata": {
    "collapsed": true
   },
   "outputs": [],
   "source": [
    "### plot the raw features\n",
    "\n",
    "plt.figure()\n",
    "X = np.array(sample_df)\n",
    "X = np.ma.masked_where(np.abs(X) < 1e-3, X)\n",
    "cmap = mpl.cm.jet\n",
    "cmap.set_bad('white')\n",
    "cax = plt.imshow(X, interpolation='nearest', cmap=cmap, aspect='auto')\n",
    "plt.colorbar(cax)\n",
    "plt.savefig('Feaures_Raw.png')\n",
    "\n"
   ]
  },
  {
   "cell_type": "code",
   "execution_count": 5,
   "metadata": {
    "collapsed": true
   },
   "outputs": [],
   "source": [
    "data = sample_df.copy()\n",
    "\n",
    "X = quantileNormalize(data)\n",
    "X = np.log2(X + 1e-10)\n",
    "X = X.apply(lambda x: (x-np.mean(x)) / np.std(x), axis=0)\n",
    "\n",
    "#X = np.array(data)[:,np.array([0,1,2,3,4,5]+[29,30])]\n",
    "\n",
    "X.to_csv('Features_normalized.csv',sep='\\t')"
   ]
  },
  {
   "cell_type": "code",
   "execution_count": 6,
   "metadata": {},
   "outputs": [
    {
     "name": "stdout",
     "output_type": "stream",
     "text": [
      "[ 0.08078187  0.03244479  0.02356611  0.02035036  0.01815709  0.01577288\n",
      "  0.01508609  0.01330848  0.01262597  0.01163276]\n"
     ]
    }
   ],
   "source": [
    "\n",
    "X = np.array(X)\n",
    "pca = PCA(n_components=10)\n",
    "pca.fit(X)\n",
    "print(pca.explained_variance_ratio_) \n",
    "\n",
    "Y = pca.transform(X)"
   ]
  },
  {
   "cell_type": "code",
   "execution_count": 8,
   "metadata": {
    "collapsed": true
   },
   "outputs": [],
   "source": [
    "idx = np.random.choice(range(len(Y)),3000)\n",
    "\n",
    "model = TSNE(n_components=2, random_state=0)\n",
    "Z = model.fit_transform(Y[idx,:])"
   ]
  },
  {
   "cell_type": "code",
   "execution_count": 10,
   "metadata": {},
   "outputs": [
    {
     "data": {
      "text/plain": [
       "array([[ -2.96828119,   0.02485503],\n",
       "       [ -2.72430126,   0.02880321],\n",
       "       [ -1.41933932,  -0.0556558 ],\n",
       "       ..., \n",
       "       [ -0.03357866,   0.12995673],\n",
       "       [ -1.61678278,  -0.08446209],\n",
       "       [ 10.93606255,  -0.42815075]])"
      ]
     },
     "execution_count": 10,
     "metadata": {},
     "output_type": "execute_result"
    }
   ],
   "source": [
    "Y[idx,:]"
   ]
  },
  {
   "cell_type": "code",
   "execution_count": 9,
   "metadata": {},
   "outputs": [
    {
     "data": {
      "text/plain": [
       "array([[ 13.60837024, -11.42311558],\n",
       "       [-13.4452101 ,  -8.94927782],\n",
       "       [  4.09377423,   3.98402401],\n",
       "       ..., \n",
       "       [ -3.9211241 ,   8.03168165],\n",
       "       [  9.06260523,  -3.11880229],\n",
       "       [-10.53713215, -10.72338951]])"
      ]
     },
     "execution_count": 9,
     "metadata": {},
     "output_type": "execute_result"
    }
   ],
   "source": [
    "Z"
   ]
  },
  {
   "cell_type": "code",
   "execution_count": 7,
   "metadata": {
    "collapsed": true
   },
   "outputs": [],
   "source": [
    "idx = np.random.choice(range(len(Y)),3000)\n",
    "\n",
    "plt.figure()\n",
    "plt.scatter(Y[idx,0], Y[idx,1])\n",
    "plt.show()"
   ]
  },
  {
   "cell_type": "code",
   "execution_count": 8,
   "metadata": {
    "collapsed": true
   },
   "outputs": [],
   "source": [
    "plt.figure()\n",
    "plt.plot(range(20), pca.explained_variance_ratio_)\n",
    "plt.xlabel('Number of PCs')\n",
    "plt.ylabel('Explained variance')\n",
    "plt.savefig('Feaures_PC_explained.png')"
   ]
  },
  {
   "cell_type": "code",
   "execution_count": 18,
   "metadata": {
    "collapsed": true
   },
   "outputs": [],
   "source": [
    "model = TSNE(n_components=2, random_state=0)\n",
    "Z = model.fit_transform(Y[np.random.choice(range(len(Y)),3000)]) \n",
    "\n",
    "\n",
    "plt.figure()\n",
    "plt.scatter(Z[:,0], Z[:,1])\n",
    "plt.savefig('Feaures_tSNE_space_PC20.png')"
   ]
  },
  {
   "cell_type": "code",
   "execution_count": 297,
   "metadata": {
    "collapsed": true
   },
   "outputs": [],
   "source": [
    "model = BayesianGaussianMixture(4)\n",
    "model.fit(X)\n",
    "Y_ = model.predict(X)\n",
    "data['group'] = Y_"
   ]
  },
  {
   "cell_type": "code",
   "execution_count": 314,
   "metadata": {
    "collapsed": true
   },
   "outputs": [],
   "source": [
    "df_plot = data.groupby('group')[np.array(data.columns[:-1])].mean()\n",
    "\n",
    "df_plot = df_plot[df_plot.columns[np.std(df_plot, axis=0) > np.percentile(np.std(df_plot, axis=0), 50)]]\n",
    "df_plot.index = [Counter(Y_)[t] for t in np.unique(df_plot.index)]\n",
    "\n",
    "\n",
    "fig, ax = plt.subplots()\n",
    "cax = ax.imshow(df_plot, interpolation='nearest')\n",
    "ax.set_xticks(range(len(df_plot.columns)))\n",
    "ax.set_xticklabels(df_plot.columns, rotation = 90)\n",
    "ax.set_yticks(range(len(df_plot.index)))\n",
    "ax.set_yticklabels(df_plot.index)\n",
    "fig.colorbar(cax)\n",
    "plt.savefig('Feature_enrichment.png')"
   ]
  },
  {
   "cell_type": "code",
   "execution_count": 315,
   "metadata": {
    "collapsed": true
   },
   "outputs": [],
   "source": [
    "def plot_cov(covM, Y, gridXn = 3, gridYn = 4):\n",
    "    cov_matrix = covM.copy()\n",
    "    fig, ax = plt.subplots(gridXn, gridYn)\n",
    "    for k in range(len(cov_matrix)):\n",
    "        X = cov_matrix[k]\n",
    "        np.fill_diagonal(X,0)\n",
    "               \n",
    "    for i in range(gridXn):\n",
    "        for j in range(gridYn):\n",
    "            if i * gridYn + j  < len(cov_matrix):\n",
    "                X = cov_matrix[i*gridYn+j]\n",
    "                X = np.ma.masked_where(np.abs(X) < 1e-3, X)\n",
    "                cmap = mpl.cm.jet\n",
    "                cmap.set_bad('white')\n",
    "                cax = ax[i][j].imshow(X, interpolation='nearest', vmin=np.min(cov_matrix), vmax=np.max(cov_matrix), cmap=cmap)\n",
    "                ax[i][j].set_title(str(Counter(Y)[i*gridYn+j]))\n",
    "            ax[i][j].set_xticks([])\n",
    "            ax[i][j].set_yticks([])\n",
    "            #ax[i][j].axis('off')\n",
    "    \n",
    "    #fig.subplots_adjust(right=0.)\n",
    "    #cbar_ax = fig.add_axes([0.85, 0.15, 0.05, 0.7])\n",
    "    fig.colorbar(cax)\n",
    "\n",
    "    plt.savefig('Features_esimated_covariance.png')\n",
    "    \n",
    "    return"
   ]
  },
  {
   "cell_type": "code",
   "execution_count": 316,
   "metadata": {
    "collapsed": true
   },
   "outputs": [],
   "source": [
    "plot_cov(model.covariances_, Y_, 2, 2)"
   ]
  }
 ],
 "metadata": {
  "kernelspec": {
   "display_name": "Python 2",
   "language": "python",
   "name": "python2"
  },
  "language_info": {
   "codemirror_mode": {
    "name": "ipython",
    "version": 2
   },
   "file_extension": ".py",
   "mimetype": "text/x-python",
   "name": "python",
   "nbconvert_exporter": "python",
   "pygments_lexer": "ipython2",
   "version": "2.7.12"
  }
 },
 "nbformat": 4,
 "nbformat_minor": 1
}
